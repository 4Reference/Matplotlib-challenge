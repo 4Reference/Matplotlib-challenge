{
 "cells": [
  {
   "cell_type": "markdown",
   "metadata": {},
   "source": [
    "## Observations and Insights"
   ]
  },
  {
   "cell_type": "markdown",
   "metadata": {},
   "source": []
  },
  {
   "cell_type": "markdown",
   "metadata": {},
   "source": [
    "## Dependencies and starter code"
   ]
  },
  {
   "cell_type": "code",
   "execution_count": 1,
   "metadata": {},
   "outputs": [
    {
     "data": {
      "text/html": [
       "<div>\n",
       "<style scoped>\n",
       "    .dataframe tbody tr th:only-of-type {\n",
       "        vertical-align: middle;\n",
       "    }\n",
       "\n",
       "    .dataframe tbody tr th {\n",
       "        vertical-align: top;\n",
       "    }\n",
       "\n",
       "    .dataframe thead th {\n",
       "        text-align: right;\n",
       "    }\n",
       "</style>\n",
       "<table border=\"1\" class=\"dataframe\">\n",
       "  <thead>\n",
       "    <tr style=\"text-align: right;\">\n",
       "      <th></th>\n",
       "      <th>Mouse ID</th>\n",
       "      <th>Timepoint</th>\n",
       "      <th>Tumor Volume (mm3)</th>\n",
       "      <th>Metastatic Sites</th>\n",
       "      <th>Drug Regimen</th>\n",
       "      <th>Sex</th>\n",
       "      <th>Age_months</th>\n",
       "      <th>Weight (g)</th>\n",
       "    </tr>\n",
       "  </thead>\n",
       "  <tbody>\n",
       "    <tr>\n",
       "      <th>0</th>\n",
       "      <td>b128</td>\n",
       "      <td>0</td>\n",
       "      <td>45.000000</td>\n",
       "      <td>0</td>\n",
       "      <td>Capomulin</td>\n",
       "      <td>Female</td>\n",
       "      <td>9</td>\n",
       "      <td>22</td>\n",
       "    </tr>\n",
       "    <tr>\n",
       "      <th>1</th>\n",
       "      <td>b128</td>\n",
       "      <td>5</td>\n",
       "      <td>45.651331</td>\n",
       "      <td>0</td>\n",
       "      <td>Capomulin</td>\n",
       "      <td>Female</td>\n",
       "      <td>9</td>\n",
       "      <td>22</td>\n",
       "    </tr>\n",
       "    <tr>\n",
       "      <th>2</th>\n",
       "      <td>b128</td>\n",
       "      <td>10</td>\n",
       "      <td>43.270852</td>\n",
       "      <td>0</td>\n",
       "      <td>Capomulin</td>\n",
       "      <td>Female</td>\n",
       "      <td>9</td>\n",
       "      <td>22</td>\n",
       "    </tr>\n",
       "    <tr>\n",
       "      <th>3</th>\n",
       "      <td>b128</td>\n",
       "      <td>15</td>\n",
       "      <td>43.784893</td>\n",
       "      <td>0</td>\n",
       "      <td>Capomulin</td>\n",
       "      <td>Female</td>\n",
       "      <td>9</td>\n",
       "      <td>22</td>\n",
       "    </tr>\n",
       "    <tr>\n",
       "      <th>4</th>\n",
       "      <td>b128</td>\n",
       "      <td>20</td>\n",
       "      <td>42.731552</td>\n",
       "      <td>0</td>\n",
       "      <td>Capomulin</td>\n",
       "      <td>Female</td>\n",
       "      <td>9</td>\n",
       "      <td>22</td>\n",
       "    </tr>\n",
       "    <tr>\n",
       "      <th>...</th>\n",
       "      <td>...</td>\n",
       "      <td>...</td>\n",
       "      <td>...</td>\n",
       "      <td>...</td>\n",
       "      <td>...</td>\n",
       "      <td>...</td>\n",
       "      <td>...</td>\n",
       "      <td>...</td>\n",
       "    </tr>\n",
       "    <tr>\n",
       "      <th>1888</th>\n",
       "      <td>m601</td>\n",
       "      <td>25</td>\n",
       "      <td>33.118756</td>\n",
       "      <td>1</td>\n",
       "      <td>Capomulin</td>\n",
       "      <td>Male</td>\n",
       "      <td>22</td>\n",
       "      <td>17</td>\n",
       "    </tr>\n",
       "    <tr>\n",
       "      <th>1889</th>\n",
       "      <td>m601</td>\n",
       "      <td>30</td>\n",
       "      <td>31.758275</td>\n",
       "      <td>1</td>\n",
       "      <td>Capomulin</td>\n",
       "      <td>Male</td>\n",
       "      <td>22</td>\n",
       "      <td>17</td>\n",
       "    </tr>\n",
       "    <tr>\n",
       "      <th>1890</th>\n",
       "      <td>m601</td>\n",
       "      <td>35</td>\n",
       "      <td>30.834357</td>\n",
       "      <td>1</td>\n",
       "      <td>Capomulin</td>\n",
       "      <td>Male</td>\n",
       "      <td>22</td>\n",
       "      <td>17</td>\n",
       "    </tr>\n",
       "    <tr>\n",
       "      <th>1891</th>\n",
       "      <td>m601</td>\n",
       "      <td>40</td>\n",
       "      <td>31.378045</td>\n",
       "      <td>1</td>\n",
       "      <td>Capomulin</td>\n",
       "      <td>Male</td>\n",
       "      <td>22</td>\n",
       "      <td>17</td>\n",
       "    </tr>\n",
       "    <tr>\n",
       "      <th>1892</th>\n",
       "      <td>m601</td>\n",
       "      <td>45</td>\n",
       "      <td>28.430964</td>\n",
       "      <td>1</td>\n",
       "      <td>Capomulin</td>\n",
       "      <td>Male</td>\n",
       "      <td>22</td>\n",
       "      <td>17</td>\n",
       "    </tr>\n",
       "  </tbody>\n",
       "</table>\n",
       "<p>1893 rows × 8 columns</p>\n",
       "</div>"
      ],
      "text/plain": [
       "     Mouse ID  Timepoint  Tumor Volume (mm3)  Metastatic Sites Drug Regimen  \\\n",
       "0        b128          0           45.000000                 0    Capomulin   \n",
       "1        b128          5           45.651331                 0    Capomulin   \n",
       "2        b128         10           43.270852                 0    Capomulin   \n",
       "3        b128         15           43.784893                 0    Capomulin   \n",
       "4        b128         20           42.731552                 0    Capomulin   \n",
       "...       ...        ...                 ...               ...          ...   \n",
       "1888     m601         25           33.118756                 1    Capomulin   \n",
       "1889     m601         30           31.758275                 1    Capomulin   \n",
       "1890     m601         35           30.834357                 1    Capomulin   \n",
       "1891     m601         40           31.378045                 1    Capomulin   \n",
       "1892     m601         45           28.430964                 1    Capomulin   \n",
       "\n",
       "         Sex  Age_months  Weight (g)  \n",
       "0     Female           9          22  \n",
       "1     Female           9          22  \n",
       "2     Female           9          22  \n",
       "3     Female           9          22  \n",
       "4     Female           9          22  \n",
       "...      ...         ...         ...  \n",
       "1888    Male          22          17  \n",
       "1889    Male          22          17  \n",
       "1890    Male          22          17  \n",
       "1891    Male          22          17  \n",
       "1892    Male          22          17  \n",
       "\n",
       "[1893 rows x 8 columns]"
      ]
     },
     "execution_count": 1,
     "metadata": {},
     "output_type": "execute_result"
    }
   ],
   "source": [
    "# Dependencies and Setup\n",
    "import matplotlib.pyplot as plt\n",
    "import numpy as np\n",
    "import pandas as pd\n",
    "import scipy.stats as st\n",
    "import random\n",
    "\n",
    "class color:\n",
    "   PURPLE = '\\033[95m'\n",
    "   CYAN = '\\033[96m'\n",
    "   DARKCYAN = '\\033[36m'\n",
    "   BLUE = '\\033[94m'\n",
    "   GREEN = '\\033[92m'\n",
    "   YELLOW = '\\033[93m'\n",
    "   RED = '\\033[91m'\n",
    "   BOLD = '\\033[1m'\n",
    "   UNDERLINE = '\\033[4m'\n",
    "   END = '\\033[0m'\n",
    "\n",
    "# Study data files\n",
    "mouse_metadata = \"data/Mouse_metadata.csv\"\n",
    "study_results = \"data/Study_results.csv\"\n",
    "\n",
    "# Read the mouse data and the study results\n",
    "mouse_metadata = pd.read_csv(mouse_metadata)\n",
    "study_results = pd.read_csv(study_results)\n",
    "\n",
    "#print([mouse_metadata])\n",
    "#print([study_results])\n",
    "# Combine the data into a single dataset\n",
    "merged_data = pd.merge(study_results,mouse_metadata, on=\"Mouse ID\")\n",
    "merged_data"
   ]
  },
  {
   "cell_type": "markdown",
   "metadata": {},
   "source": [
    "## Summary statistics"
   ]
  },
  {
   "cell_type": "code",
   "execution_count": 2,
   "metadata": {},
   "outputs": [
    {
     "data": {
      "text/html": [
       "<div>\n",
       "<style scoped>\n",
       "    .dataframe tbody tr th:only-of-type {\n",
       "        vertical-align: middle;\n",
       "    }\n",
       "\n",
       "    .dataframe tbody tr th {\n",
       "        vertical-align: top;\n",
       "    }\n",
       "\n",
       "    .dataframe thead th {\n",
       "        text-align: right;\n",
       "    }\n",
       "</style>\n",
       "<table border=\"1\" class=\"dataframe\">\n",
       "  <thead>\n",
       "    <tr style=\"text-align: right;\">\n",
       "      <th></th>\n",
       "      <th>Tumor Volume Mean</th>\n",
       "      <th>Tumor Volume Median</th>\n",
       "      <th>Tumor Volume Variance</th>\n",
       "      <th>Tumor Volume Std Dev</th>\n",
       "      <th>Tumor Volume SEM</th>\n",
       "    </tr>\n",
       "    <tr>\n",
       "      <th>Drug Regimen</th>\n",
       "      <th></th>\n",
       "      <th></th>\n",
       "      <th></th>\n",
       "      <th></th>\n",
       "      <th></th>\n",
       "    </tr>\n",
       "  </thead>\n",
       "  <tbody>\n",
       "    <tr>\n",
       "      <th>Capomulin</th>\n",
       "      <td>40.68</td>\n",
       "      <td>41.56</td>\n",
       "      <td>24.95</td>\n",
       "      <td>4.99</td>\n",
       "      <td>0.33</td>\n",
       "    </tr>\n",
       "    <tr>\n",
       "      <th>Ceftamin</th>\n",
       "      <td>52.59</td>\n",
       "      <td>51.78</td>\n",
       "      <td>39.29</td>\n",
       "      <td>6.27</td>\n",
       "      <td>0.47</td>\n",
       "    </tr>\n",
       "    <tr>\n",
       "      <th>Infubinol</th>\n",
       "      <td>52.88</td>\n",
       "      <td>51.82</td>\n",
       "      <td>43.13</td>\n",
       "      <td>6.57</td>\n",
       "      <td>0.49</td>\n",
       "    </tr>\n",
       "    <tr>\n",
       "      <th>Ketapril</th>\n",
       "      <td>55.24</td>\n",
       "      <td>53.70</td>\n",
       "      <td>68.55</td>\n",
       "      <td>8.28</td>\n",
       "      <td>0.60</td>\n",
       "    </tr>\n",
       "    <tr>\n",
       "      <th>Naftisol</th>\n",
       "      <td>54.33</td>\n",
       "      <td>52.51</td>\n",
       "      <td>66.17</td>\n",
       "      <td>8.13</td>\n",
       "      <td>0.60</td>\n",
       "    </tr>\n",
       "    <tr>\n",
       "      <th>Placebo</th>\n",
       "      <td>54.03</td>\n",
       "      <td>52.29</td>\n",
       "      <td>61.17</td>\n",
       "      <td>7.82</td>\n",
       "      <td>0.58</td>\n",
       "    </tr>\n",
       "    <tr>\n",
       "      <th>Propriva</th>\n",
       "      <td>52.32</td>\n",
       "      <td>50.85</td>\n",
       "      <td>42.35</td>\n",
       "      <td>6.51</td>\n",
       "      <td>0.51</td>\n",
       "    </tr>\n",
       "    <tr>\n",
       "      <th>Ramicane</th>\n",
       "      <td>40.22</td>\n",
       "      <td>40.67</td>\n",
       "      <td>23.49</td>\n",
       "      <td>4.85</td>\n",
       "      <td>0.32</td>\n",
       "    </tr>\n",
       "    <tr>\n",
       "      <th>Stelasyn</th>\n",
       "      <td>54.23</td>\n",
       "      <td>52.43</td>\n",
       "      <td>59.45</td>\n",
       "      <td>7.71</td>\n",
       "      <td>0.57</td>\n",
       "    </tr>\n",
       "    <tr>\n",
       "      <th>Zoniferol</th>\n",
       "      <td>53.24</td>\n",
       "      <td>51.82</td>\n",
       "      <td>48.53</td>\n",
       "      <td>6.97</td>\n",
       "      <td>0.52</td>\n",
       "    </tr>\n",
       "  </tbody>\n",
       "</table>\n",
       "</div>"
      ],
      "text/plain": [
       "              Tumor Volume Mean  Tumor Volume Median  Tumor Volume Variance  \\\n",
       "Drug Regimen                                                                  \n",
       "Capomulin                 40.68                41.56                  24.95   \n",
       "Ceftamin                  52.59                51.78                  39.29   \n",
       "Infubinol                 52.88                51.82                  43.13   \n",
       "Ketapril                  55.24                53.70                  68.55   \n",
       "Naftisol                  54.33                52.51                  66.17   \n",
       "Placebo                   54.03                52.29                  61.17   \n",
       "Propriva                  52.32                50.85                  42.35   \n",
       "Ramicane                  40.22                40.67                  23.49   \n",
       "Stelasyn                  54.23                52.43                  59.45   \n",
       "Zoniferol                 53.24                51.82                  48.53   \n",
       "\n",
       "              Tumor Volume Std Dev  Tumor Volume SEM  \n",
       "Drug Regimen                                          \n",
       "Capomulin                     4.99              0.33  \n",
       "Ceftamin                      6.27              0.47  \n",
       "Infubinol                     6.57              0.49  \n",
       "Ketapril                      8.28              0.60  \n",
       "Naftisol                      8.13              0.60  \n",
       "Placebo                       7.82              0.58  \n",
       "Propriva                      6.51              0.51  \n",
       "Ramicane                      4.85              0.32  \n",
       "Stelasyn                      7.71              0.57  \n",
       "Zoniferol                     6.97              0.52  "
      ]
     },
     "execution_count": 2,
     "metadata": {},
     "output_type": "execute_result"
    }
   ],
   "source": [
    "# Generate a summary statistics table of mean, median, variance, standard deviation, and SEM of the tumor volume for each regimen\n",
    "# from Readme.MD: Generate a summary statistics table consisting of the mean, median, variance, standard deviation, and SEM of the tumor volume for each drug regimen.\n",
    "\n",
    "drug_groups = merged_data.groupby([\"Drug Regimen\"])\n",
    "drug_group_mean = round(drug_groups['Tumor Volume (mm3)'].mean(),2)\n",
    "drug_group_median = round(drug_groups['Tumor Volume (mm3)'].median(),2)\n",
    "drug_group_var = round(drug_groups['Tumor Volume (mm3)'].var(),2)\n",
    "drug_group_std = round(drug_groups['Tumor Volume (mm3)'].std(),2)\n",
    "drug_group_sem = round(drug_groups['Tumor Volume (mm3)'].sem(),2)\n",
    "drug_group_df = pd.merge(drug_group_mean,drug_group_median, on='Drug Regimen')\n",
    "drug_group_df = pd.merge(drug_group_df,drug_group_var, on='Drug Regimen')\n",
    "drug_group_df = pd.merge(drug_group_df,drug_group_std, on='Drug Regimen')\n",
    "drug_group_df = pd.merge(drug_group_df,drug_group_sem, on='Drug Regimen')\n",
    "drug_group_df.columns = ['Tumor Volume Mean','Tumor Volume Median','Tumor Volume Variance','Tumor Volume Std Dev','Tumor Volume SEM']\n",
    "drug_group_df\n",
    "\n",
    "# Alt code:\n",
    "# summary_df = df.groupby('Drug Regimen').agg({'Tumor Volume (mm3)': ['mean', 'median', 'var', 'std', 'sem']})\n",
    "# summary_df.columns = ['Tumor V Mean','Tumor V Median','Tumor V Variance',\n",
    "#                       'Tumor V Std','Tumor V SEM']\n",
    "# summary_df\n"
   ]
  },
  {
   "cell_type": "markdown",
   "metadata": {},
   "source": [
    "## Bar plots"
   ]
  },
  {
   "cell_type": "markdown",
   "metadata": {},
   "source": [
    "Generate a bar plot using both Pandas's `DataFrame.plot()` and Matplotlib's `pyplot` that shows the number of data points for each treatment regimen.\n",
    "\n",
    "  **NOTE:** These plots should look identical."
   ]
  },
  {
   "cell_type": "code",
   "execution_count": 3,
   "metadata": {},
   "outputs": [
    {
     "name": "stdout",
     "output_type": "stream",
     "text": [
      "[Drug Regimen\n",
      "Capomulin    230\n",
      "Ceftamin     178\n",
      "Infubinol    178\n",
      "Ketapril     188\n",
      "Naftisol     186\n",
      "Placebo      181\n",
      "Propriva     161\n",
      "Ramicane     228\n",
      "Stelasyn     181\n",
      "Zoniferol    182\n",
      "Name: Timepoint, dtype: int64]\n"
     ]
    },
    {
     "data": {
      "text/plain": [
       "<matplotlib.axes._subplots.AxesSubplot at 0x1b658f8d688>"
      ]
     },
     "execution_count": 3,
     "metadata": {},
     "output_type": "execute_result"
    },
    {
     "data": {
      "image/png": "[encoded data removed]",
      "text/plain": [
       "<Figure size 432x288 with 1 Axes>"
      ]
     },
     "metadata": {
      "needs_background": "light"
     },
     "output_type": "display_data"
    }
   ],
   "source": [
    "# Generate a bar plot showing number of data points for each treatment regimen using pandas\n",
    "drug_dp_count = drug_groups['Timepoint'].count()\n",
    "print([drug_dp_count])\n",
    "drug_dp_count.plot.bar()"
   ]
  },
  {
   "cell_type": "code",
   "execution_count": 4,
   "metadata": {},
   "outputs": [
    {
     "data": {
      "text/plain": [
       "([<matplotlib.axis.XTick at 0x1b65cbc2f08>,\n",
       "  <matplotlib.axis.XTick at 0x1b65cbc2588>,\n",
       "  <matplotlib.axis.XTick at 0x1b65c6dfc08>,\n",
       "  <matplotlib.axis.XTick at 0x1b65cc09988>,\n",
       "  <matplotlib.axis.XTick at 0x1b65cc0d108>,\n",
       "  <matplotlib.axis.XTick at 0x1b65cc0d788>,\n",
       "  <matplotlib.axis.XTick at 0x1b65cc0dc88>,\n",
       "  <matplotlib.axis.XTick at 0x1b65cc11448>,\n",
       "  <matplotlib.axis.XTick at 0x1b65cc16048>,\n",
       "  <matplotlib.axis.XTick at 0x1b65cc16988>],\n",
       " <a list of 10 Text xticklabel objects>)"
      ]
     },
     "execution_count": 4,
     "metadata": {},
     "output_type": "execute_result"
    },
    {
     "data": {
      "image/png": "[encoded data removed]",
      "text/plain": [
       "<Figure size 432x288 with 1 Axes>"
      ]
     },
     "metadata": {
      "needs_background": "light"
     },
     "output_type": "display_data"
    }
   ],
   "source": [
    "# Generate a bar plot showing number of data points for each treatment regimen using pyplot\n",
    "x_axis = np.arange(len(drug_groups))\n",
    "tick_locations = [value for value in x_axis]\n",
    "drug_dp_count = drug_groups['Timepoint'].count()\n",
    "#print([drug_dp_count])\n",
    "plt.bar(x_axis,drug_dp_count,width=.5, align=\"center\")\n",
    "plt.xticks(tick_locations, drug_dp_count.index.values, rotation=\"vertical\")"
   ]
  },
  {
   "cell_type": "markdown",
   "metadata": {},
   "source": [
    "## Pie plots"
   ]
  },
  {
   "cell_type": "markdown",
   "metadata": {},
   "source": [
    "Generate a pie plot using both Pandas's `DataFrame.plot()` and Matplotlib's `pyplot` that shows the distribution of female or male mice in the study.\n",
    "\n",
    "  **NOTE:** These plots should look identical."
   ]
  },
  {
   "cell_type": "code",
   "execution_count": 5,
   "metadata": {},
   "outputs": [
    {
     "name": "stdout",
     "output_type": "stream",
     "text": [
      "[        Gender Pct\n",
      "Sex               \n",
      "Female         124\n",
      "Male           125]\n"
     ]
    },
    {
     "data": {
      "text/plain": [
       "array([<matplotlib.axes._subplots.AxesSubplot object at 0x000001B65CC4B688>],\n",
       "      dtype=object)"
      ]
     },
     "execution_count": 5,
     "metadata": {},
     "output_type": "execute_result"
    },
    {
     "data": {
      "image/png": "[encoded data removed]",
      "text/plain": [
       "<Figure size 432x288 with 1 Axes>"
      ]
     },
     "metadata": {},
     "output_type": "display_data"
    }
   ],
   "source": [
    "# Generate a pie plot showing the distribution of female versus male mice using pandas\n",
    "\n",
    "#Sneaking a peak at the mouse metadata csv we can see that the total count of mice is 249\n",
    "#to get the mouse and gender data I could have just used the mouse_metadata df but decided to use the merged one \n",
    "unique_mice = merged_data.loc[:, ['Sex', 'Mouse ID']]\n",
    "unique_mice = unique_mice.drop_duplicates()\n",
    "mvf_count = unique_mice.groupby('Sex')\n",
    "mvf_count = mvf_count.count()\n",
    "mvf_count.columns = [\"Gender Pct\"]\n",
    "print([mvf_count])\n",
    "mvf_count.plot.pie(subplots=True, autopct='%1.1f%%', startangle=45)"
   ]
  },
  {
   "cell_type": "code",
   "execution_count": 8,
   "metadata": {},
   "outputs": [
    {
     "data": {
      "image/png": "[encoded data removed]",
      "text/plain": [
       "<Figure size 432x288 with 1 Axes>"
      ]
     },
     "metadata": {},
     "output_type": "display_data"
    }
   ],
   "source": [
    "# Generate a pie plot showing the distribution of female versus male mice using pyplot\n",
    "# Data to plot\n",
    "labels = 'Female', 'Male'\n",
    "sizes = mvf_count['Gender Pct'].values\n",
    "colors = ['blue', 'darkorange']\n",
    "\n",
    "# Plot\n",
    "plt.pie(sizes, labels=labels, colors=colors,\n",
    "autopct='%1.1f%%', startangle=45)\n",
    "plt.legend(loc='upper right')\n",
    "plt.axis('equal')\n",
    "plt.show()"
   ]
  },
  {
   "cell_type": "markdown",
   "metadata": {},
   "source": [
    "## Quartiles, outliers and boxplots"
   ]
  },
  {
   "cell_type": "markdown",
   "metadata": {},
   "source": [
    "Calculate the final tumor volume of each mouse across four of the most promising treatment regimens: Capomulin, Ramicane, Infubinol, and Ceftamin. Calculate the quartiles and IQR and quantitatively determine if there are any potential outliers across all four treatment regimens."
   ]
  },
  {
   "cell_type": "code",
   "execution_count": 6,
   "metadata": {},
   "outputs": [],
   "source": [
    "# Calculate the final tumor volume of each mouse across four of the most promising treatment regimens. \n",
    "#   -Capomulin, Ramicane, Infubinol, and Ceftamin. \n",
    "\n",
    "#Final tumor volume would be the tumor volume found in the last timepoint of each mouse\n",
    "#\n",
    "new_merged_data =pd.merge(study_results,mouse_metadata, on=\"Mouse ID\", how=\"inner\")\n",
    "refined_data = new_merged_data[[\"Mouse ID\",\"Timepoint\",\"Tumor Volume (mm3)\",\"Drug Regimen\"]]\n",
    "capomulin_data = refined_data.loc[refined_data['Drug Regimen'] == 'Capomulin']\n",
    "capomulin_data = capomulin_data.groupby(\"Mouse ID\").tail(1)\n",
    "#print([capomulin_data])\n",
    "ramicane_data = refined_data.loc[refined_data['Drug Regimen'] == 'Ramicane']\n",
    "ramicane_data = ramicane_data.groupby(\"Mouse ID\").tail(1)\n",
    "#print([ramicane_data])\n",
    "infubinol_data = refined_data.loc[refined_data['Drug Regimen'] == 'Infubinol']\n",
    "infubinol_data = infubinol_data.groupby(\"Mouse ID\").tail(1)\n",
    "#print([infubinol_data])\n",
    "ceftamin_data = refined_data.loc[refined_data['Drug Regimen'] == 'Ceftamin']\n",
    "ceftamin_data = ceftamin_data.groupby(\"Mouse ID\").tail(1)\n",
    "#print([ceftamin_data])\n",
    "\n"
   ]
  },
  {
   "cell_type": "markdown",
   "metadata": {},
   "source": [
    "Calculate the quartiles and IQR and quantitatively determine if there are any potential outliers across all four treatment regimens."
   ]
  },
  {
   "cell_type": "code",
   "execution_count": null,
   "metadata": {},
   "outputs": [],
   "source": [
    "# Calculate the IQR and quantitatively determine if there are any potential outliers. \n",
    "# Capomulin IQR Data\n",
    "cap_iqr_data = capomulin_data['Tumor Volume (mm3)']\n",
    "cap_quartiles = round(cap_iqr_data.quantile([.25,.5,.75]),2)\n",
    "cap_lowerq = round(cap_quartiles[0.25],2)\n",
    "cap_upperq = round(cap_quartiles[0.75],2)\n",
    "cap_iqr = round(cap_upperq-cap_lowerq,2)\n",
    "\n",
    "print(color.BOLD + 'Capomulin IQR Data'+ color.END)\n",
    "print(f\"The lower quartile of tumor volume is: {cap_lowerq}\")\n",
    "print(f\"The upper quartile of tumor volume is: {cap_upperq}\")\n",
    "print(f\"The interquartile range of tumor volume is: {cap_iqr}\")\n",
    "print(f\"The the median of tumor volume is: {cap_quartiles[0.5]} \")\n",
    "\n",
    "cap_lower_bound = round(cap_lowerq - (1.5*cap_iqr),2)\n",
    "cap_upper_bound = round(cap_upperq + (1.5*cap_iqr),2)\n",
    "print(f\"Values below {cap_lower_bound} could be outliers.\")\n",
    "print(f\"Values above {cap_upper_bound} could be outliers.\")\n",
    "\n",
    "# Ramicane IQR Data\n",
    "ram_iqr_data = ramicane_data['Tumor Volume (mm3)']\n",
    "ram_quartiles = round(ram_iqr_data.quantile([.25,.5,.75]),2)\n",
    "ram_lowerq = round(ram_quartiles[0.25],2)\n",
    "ram_upperq = round(ram_quartiles[0.75],2)\n",
    "ram_iqr = round(ram_upperq-ram_lowerq,2)\n",
    "\n",
    "print(color.BOLD + 'Ramicane IQR Data'+ color.END)\n",
    "print(f\"The lower quartile of tumor volume is: {ram_lowerq}\")\n",
    "print(f\"The upper quartile of tumor volume is: {ram_upperq}\")\n",
    "print(f\"The interquartile range of tumor volume is: {ram_iqr}\")\n",
    "print(f\"The the median of tumor volume is: {ram_quartiles[0.5]} \")\n",
    "\n",
    "ram_lower_bound = round(ram_lowerq - (1.5*ram_iqr),2)\n",
    "ram_upper_bound = round(ram_upperq + (1.5*ram_iqr),2)\n",
    "print(f\"Values below {ram_lower_bound} could be outliers.\")\n",
    "print(f\"Values above {ram_upper_bound} could be outliers.\")\n",
    "\n",
    "# Infubinol IQR Data\n",
    "inf_iqr_data = infubinol_data['Tumor Volume (mm3)']\n",
    "inf_quartiles = round(inf_iqr_data.quantile([.25,.5,.75]),2)\n",
    "inf_lowerq = round(inf_quartiles[0.25],2)\n",
    "inf_upperq = round(inf_quartiles[0.75],2)\n",
    "inf_iqr = round(inf_upperq-inf_lowerq,2)\n",
    "\n",
    "print(color.BOLD + 'Infubinol IQR Data'+ color.END)\n",
    "print(f\"The lower quartile of tumor volume is: {inf_lowerq}\")\n",
    "print(f\"The upper quartile of tumor volume is: {inf_upperq}\")\n",
    "print(f\"The interquartile range of tumor volume is: {inf_iqr}\")\n",
    "print(f\"The the median of tumor volume is: {inf_quartiles[0.5]} \")\n",
    "\n",
    "inf_lower_bound = round(inf_lowerq - (1.5*inf_iqr),2)\n",
    "inf_upper_bound = round(inf_upperq + (1.5*inf_iqr),2)\n",
    "print(f\"Values below {inf_lower_bound} could be outliers.\")\n",
    "print(f\"Values above {inf_upper_bound} could be outliers.\")\n",
    "\n",
    "# Ceftamin IQR Data\n",
    "cef_iqr_data = ceftamin_data['Tumor Volume (mm3)']\n",
    "cef_quartiles = round(cef_iqr_data.quantile([.25,.5,.75]),2)\n",
    "cef_lowerq = round(cef_quartiles[0.25],2)\n",
    "cef_upperq = round(cef_quartiles[0.75],2)\n",
    "cef_iqr = round(cef_upperq-cef_lowerq,2)\n",
    "\n",
    "print(color.BOLD + 'Ceftamin IQR Data'+ color.END)\n",
    "print(f\"The lower quartile of tumor volume is: {cef_lowerq}\")\n",
    "print(f\"The upper quartile of tumor volume is: {cef_upperq}\")\n",
    "print(f\"The interquartile range of tumor volume is: {cef_iqr}\")\n",
    "print(f\"The the median of tumor volume is: {cef_quartiles[0.5]} \")\n",
    "\n",
    "cef_lower_bound = round(cef_lowerq - (1.5*cef_iqr),2)\n",
    "cef_upper_bound = round(cef_upperq + (1.5*cef_iqr),2)\n",
    "print(f\"Values below {cef_lower_bound} could be outliers.\")\n",
    "print(f\"Values above {cef_upper_bound} could be outliers.\")"
   ]
  },
  {
   "cell_type": "markdown",
   "metadata": {},
   "source": [
    "Using Matplotlib, generate a box and whisker plot of the final tumor volume for all four treatment regimens and highlight any potential outliers in the plot by changing their color and style.\n",
    "\n",
    "  **Hint**: All four box plots should be within the same figure. Use this [Matplotlib documentation page](https://matplotlib.org/gallery/pyplots/boxplot_demo_pyplot.html#sphx-glr-gallery-pyplots-boxplot-demo-pyplot-py) for help with changing the style of the outliers."
   ]
  },
  {
   "cell_type": "code",
   "execution_count": null,
   "metadata": {},
   "outputs": [],
   "source": [
    "# Generate a box plot of the final tumor volume of each mouse across four regimens of interest\n",
    "combined_data = capomulin_data[['Tumor Volume (mm3)',\"Drug Regimen\"]]\n",
    "combined_data = combined_data.append(ramicane_data[['Tumor Volume (mm3)',\"Drug Regimen\"]])\n",
    "combined_data = combined_data.append(infubinol_data[['Tumor Volume (mm3)',\"Drug Regimen\"]])\n",
    "combined_data = combined_data.append(ceftamin_data[['Tumor Volume (mm3)',\"Drug Regimen\"]])\n",
    "#print([combined_data])\n",
    "\n",
    "flierprops = dict(marker='o', markerfacecolor='green', markersize=12,\n",
    "                  linestyle='none')\n",
    "\n",
    "combined_data.boxplot(by=\"Drug Regimen\", flierprops=flierprops, figsize=(8,8))\n",
    "plt.show()\n",
    "\n",
    "fig1, ax1 = plt.subplots()\n",
    "ax1.set_title('Capomulin Results')\n",
    "ax1.set_ylabel('Tumor Volume (mm3)')\n",
    "ax1.boxplot(capomulin_data['Tumor Volume (mm3)'], 0, 'gD')\n",
    "plt.show()\n",
    "\n",
    "fig2, ax2 = plt.subplots()\n",
    "ax2.set_title('Ramicane Results')\n",
    "ax2.set_ylabel('Tumor Volume (mm3)')\n",
    "ax2.boxplot(ramicane_data['Tumor Volume (mm3)'], 0, 'gD')\n",
    "plt.show()\n",
    "\n",
    "fig3, ax3 = plt.subplots()\n",
    "ax3.set_title('Infubinol Results')\n",
    "ax3.set_ylabel('Tumor Volume (mm3)')\n",
    "ax3.boxplot(infubinol_data['Tumor Volume (mm3)'], 0, 'gD')\n",
    "plt.show()\n",
    "\n",
    "fig4, ax4 = plt.subplots()\n",
    "ax4.set_title('Ceftamin Results')\n",
    "ax4.set_ylabel('Tumor Volume (mm3)')\n",
    "ax4.boxplot(ceftamin_data['Tumor Volume (mm3)'], 0, 'gD')\n",
    "plt.show()\n",
    "\n",
    "\n"
   ]
  },
  {
   "cell_type": "markdown",
   "metadata": {},
   "source": [
    "## Line and scatter plots"
   ]
  },
  {
   "cell_type": "code",
   "execution_count": null,
   "metadata": {},
   "outputs": [],
   "source": [
    "# Generate a line plot of time point versus tumor volume for a mouse treated with Capomulin\n",
    "capomulin_line_data = merged_data.loc[merged_data['Drug Regimen'] == 'Capomulin']\n",
    "mouse_list = capomulin_line_data.drop_duplicates(['Mouse ID'])\n",
    "mouse_list = list(mouse_list['Mouse ID'])\n",
    "chosen_mouse_data = capomulin_line_data.loc[capomulin_line_data['Mouse ID'] == random.choice(mouse_list)]\n",
    "subjectid = chosen_mouse_data.iloc[0]['Mouse ID']\n",
    "x_values = chosen_mouse_data['Timepoint']\n",
    "y_values = chosen_mouse_data['Tumor Volume (mm3)']\n",
    "print(\"Results for subject: \" + color.BOLD + str([subjectid]) + color.END)\n",
    "plt.plot(x_values,y_values)\n",
    "plt.xlabel('Timepoint')\n",
    "plt.ylabel('Tumor Volume (mm3)')"
   ]
  },
  {
   "cell_type": "code",
   "execution_count": null,
   "metadata": {},
   "outputs": [],
   "source": [
    "# Generate a scatter plot of mouse weight versus average tumor volume for the Capomulin regimen\n",
    "#Logic:\n",
    "#    Use \"capomulin_data\" to create a new table groupby mouse id then mouse weight and average tumor volume\n",
    "capomulin_grouped = capomulin_line_data.groupby(['Mouse ID'])\n",
    "capomulin_weight = capomulin_grouped['Weight (g)'].mean()\n",
    "capomulin_atv = round(capomulin_grouped['Tumor Volume (mm3)'].mean(),2)\n",
    "plotinfo = pd.merge(capomulin_weight,capomulin_atv, on='Mouse ID')\n",
    "print([plotinfo])\n",
    "plt.scatter(plotinfo.iloc[:,0],plotinfo.iloc[:,1])\n",
    "plt.xlabel('Weight (g)')\n",
    "plt.ylabel('Tumor Volume (mm3)')\n",
    "plt.show()"
   ]
  },
  {
   "cell_type": "code",
   "execution_count": null,
   "metadata": {},
   "outputs": [],
   "source": [
    "# Calculate the correlation coefficient and linear regression model for mouse weight and average tumor volume for the Capomulin regimen\n",
    "x_values = plotinfo.iloc[:,0]\n",
    "y_values = plotinfo.iloc[:,1]\n",
    "print(f\"The correlation coefficient between mouse weight and average tumor volume for the Capomulin regimen is {round(st.pearsonr(x_values,y_values)[0],2)}\")\n",
    "(slope, intercept, rvalue, pvalue, stderr) = st.linregress(x_values, y_values)\n",
    "regress_values = x_values * slope + intercept\n",
    "line_eq = \"y = \" + str(round(slope,2)) + \"x + \" + str(round(intercept,2))\n",
    "plt.scatter(x_values,y_values)\n",
    "plt.plot(x_values,regress_values,\"r-\")\n",
    "plt.annotate(line_eq,(6,10),fontsize=15,color=\"red\")\n",
    "plt.xlabel('Weight (g)')\n",
    "plt.ylabel('Tumor Volume (mm3)')\n",
    "plt.show()\n"
   ]
  },
  {
   "cell_type": "markdown",
   "metadata": {},
   "source": [
    "## Observations\n",
    "1.) There is a difference between the IQR median for tumor volume and the median tumor volume per drug regime because the drug regime is finding the median of significantly more records while the IQR median is only looking at the final Tumor volume.\n",
    "\n",
    "2.) Correlation is an effect size and so we can verbally describe the strength of the\n",
    "correlation using the guide that Evans (1996) suggests for the absolute value of r:\n",
    "- .00-.19 “very weak”\n",
    "- .20-.39 “weak”\n",
    "- .40-.59 “moderate”\n",
    "- .60-.79 “strong”\n",
    "- .80-1.0 “very strong”\n",
    "So based on the results of that \"The correlation coefficient between mouse weight and average tumor volume for the Capomulin regimen is 0.84\", we can say that there is a very strong positive correlation.\n",
    "\n",
    "3.) More data digging would be required to see if there was a significant difference between the drugs effects on male vs female mice.\n"
   ]
  }
 ],
 "metadata": {
  "anaconda-cloud": {},
  "kernelspec": {
   "display_name": "Python 3",
   "language": "python",
   "name": "python3"
  },
  "language_info": {
   "codemirror_mode": {
    "name": "ipython",
    "version": 3
   },
   "file_extension": ".py",
   "mimetype": "text/x-python",
   "name": "python",
   "nbconvert_exporter": "python",
   "pygments_lexer": "ipython3",
   "version": "3.7.6"
  }
 },
 "nbformat": 4,
 "nbformat_minor": 2
}
